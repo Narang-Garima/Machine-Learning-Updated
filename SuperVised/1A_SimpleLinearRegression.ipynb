{
  "nbformat": 4,
  "nbformat_minor": 0,
  "metadata": {
    "colab": {
      "provenance": [],
      "authorship_tag": "ABX9TyPacu5d1B55zHq6ej5/yXOT",
      "include_colab_link": true
    },
    "kernelspec": {
      "name": "python3",
      "display_name": "Python 3"
    },
    "language_info": {
      "name": "python"
    }
  },
  "cells": [
    {
      "cell_type": "markdown",
      "metadata": {
        "id": "view-in-github",
        "colab_type": "text"
      },
      "source": [
        "<a href=\"https://colab.research.google.com/github/Narang-Garima/Machine-Learning-Updated/blob/Projects/1_SlimpleLinearRegression.ipynb\" target=\"_parent\"><img src=\"https://colab.research.google.com/assets/colab-badge.svg\" alt=\"Open In Colab\"/></a>"
      ]
    },
    {
      "cell_type": "code",
      "execution_count": 26,
      "metadata": {
        "id": "w9B561MyucpG"
      },
      "outputs": [],
      "source": [
        "# Import required libraries\n",
        "import pandas as pd # Data manipulation and analysis\n",
        "import numpy as np  # Numerical operations\n",
        "import matplotlib.pyplot as plt # Visualizations\n",
        "%matplotlib inline"
      ]
    },
    {
      "cell_type": "code",
      "source": [
        "# load the dataset: height-weight.csv\n",
        "df = pd.read_csv('height-weight.csv')"
      ],
      "metadata": {
        "id": "7kQZrrKKJJpm"
      },
      "execution_count": 29,
      "outputs": []
    },
    {
      "cell_type": "code",
      "source": [
        "# display first 5 rows\n",
        "df.head()"
      ],
      "metadata": {
        "colab": {
          "base_uri": "https://localhost:8080/",
          "height": 206
        },
        "id": "A4BnViQ0SD6Q",
        "outputId": "42c140e0-b21e-47c8-e99f-19864fc23457"
      },
      "execution_count": 31,
      "outputs": [
        {
          "output_type": "execute_result",
          "data": {
            "text/plain": [
              "   Weight  Height\n",
              "0      45     120\n",
              "1      58     135\n",
              "2      48     123\n",
              "3      60     145\n",
              "4      70     160"
            ],
            "text/html": [
              "\n",
              "  <div id=\"df-1a7f183d-aa77-4ac7-8a6b-da0b1d8cd266\" class=\"colab-df-container\">\n",
              "    <div>\n",
              "<style scoped>\n",
              "    .dataframe tbody tr th:only-of-type {\n",
              "        vertical-align: middle;\n",
              "    }\n",
              "\n",
              "    .dataframe tbody tr th {\n",
              "        vertical-align: top;\n",
              "    }\n",
              "\n",
              "    .dataframe thead th {\n",
              "        text-align: right;\n",
              "    }\n",
              "</style>\n",
              "<table border=\"1\" class=\"dataframe\">\n",
              "  <thead>\n",
              "    <tr style=\"text-align: right;\">\n",
              "      <th></th>\n",
              "      <th>Weight</th>\n",
              "      <th>Height</th>\n",
              "    </tr>\n",
              "  </thead>\n",
              "  <tbody>\n",
              "    <tr>\n",
              "      <th>0</th>\n",
              "      <td>45</td>\n",
              "      <td>120</td>\n",
              "    </tr>\n",
              "    <tr>\n",
              "      <th>1</th>\n",
              "      <td>58</td>\n",
              "      <td>135</td>\n",
              "    </tr>\n",
              "    <tr>\n",
              "      <th>2</th>\n",
              "      <td>48</td>\n",
              "      <td>123</td>\n",
              "    </tr>\n",
              "    <tr>\n",
              "      <th>3</th>\n",
              "      <td>60</td>\n",
              "      <td>145</td>\n",
              "    </tr>\n",
              "    <tr>\n",
              "      <th>4</th>\n",
              "      <td>70</td>\n",
              "      <td>160</td>\n",
              "    </tr>\n",
              "  </tbody>\n",
              "</table>\n",
              "</div>\n",
              "    <div class=\"colab-df-buttons\">\n",
              "\n",
              "  <div class=\"colab-df-container\">\n",
              "    <button class=\"colab-df-convert\" onclick=\"convertToInteractive('df-1a7f183d-aa77-4ac7-8a6b-da0b1d8cd266')\"\n",
              "            title=\"Convert this dataframe to an interactive table.\"\n",
              "            style=\"display:none;\">\n",
              "\n",
              "  <svg xmlns=\"http://www.w3.org/2000/svg\" height=\"24px\" viewBox=\"0 -960 960 960\">\n",
              "    <path d=\"M120-120v-720h720v720H120Zm60-500h600v-160H180v160Zm220 220h160v-160H400v160Zm0 220h160v-160H400v160ZM180-400h160v-160H180v160Zm440 0h160v-160H620v160ZM180-180h160v-160H180v160Zm440 0h160v-160H620v160Z\"/>\n",
              "  </svg>\n",
              "    </button>\n",
              "\n",
              "  <style>\n",
              "    .colab-df-container {\n",
              "      display:flex;\n",
              "      gap: 12px;\n",
              "    }\n",
              "\n",
              "    .colab-df-convert {\n",
              "      background-color: #E8F0FE;\n",
              "      border: none;\n",
              "      border-radius: 50%;\n",
              "      cursor: pointer;\n",
              "      display: none;\n",
              "      fill: #1967D2;\n",
              "      height: 32px;\n",
              "      padding: 0 0 0 0;\n",
              "      width: 32px;\n",
              "    }\n",
              "\n",
              "    .colab-df-convert:hover {\n",
              "      background-color: #E2EBFA;\n",
              "      box-shadow: 0px 1px 2px rgba(60, 64, 67, 0.3), 0px 1px 3px 1px rgba(60, 64, 67, 0.15);\n",
              "      fill: #174EA6;\n",
              "    }\n",
              "\n",
              "    .colab-df-buttons div {\n",
              "      margin-bottom: 4px;\n",
              "    }\n",
              "\n",
              "    [theme=dark] .colab-df-convert {\n",
              "      background-color: #3B4455;\n",
              "      fill: #D2E3FC;\n",
              "    }\n",
              "\n",
              "    [theme=dark] .colab-df-convert:hover {\n",
              "      background-color: #434B5C;\n",
              "      box-shadow: 0px 1px 3px 1px rgba(0, 0, 0, 0.15);\n",
              "      filter: drop-shadow(0px 1px 2px rgba(0, 0, 0, 0.3));\n",
              "      fill: #FFFFFF;\n",
              "    }\n",
              "  </style>\n",
              "\n",
              "    <script>\n",
              "      const buttonEl =\n",
              "        document.querySelector('#df-1a7f183d-aa77-4ac7-8a6b-da0b1d8cd266 button.colab-df-convert');\n",
              "      buttonEl.style.display =\n",
              "        google.colab.kernel.accessAllowed ? 'block' : 'none';\n",
              "\n",
              "      async function convertToInteractive(key) {\n",
              "        const element = document.querySelector('#df-1a7f183d-aa77-4ac7-8a6b-da0b1d8cd266');\n",
              "        const dataTable =\n",
              "          await google.colab.kernel.invokeFunction('convertToInteractive',\n",
              "                                                    [key], {});\n",
              "        if (!dataTable) return;\n",
              "\n",
              "        const docLinkHtml = 'Like what you see? Visit the ' +\n",
              "          '<a target=\"_blank\" href=https://colab.research.google.com/notebooks/data_table.ipynb>data table notebook</a>'\n",
              "          + ' to learn more about interactive tables.';\n",
              "        element.innerHTML = '';\n",
              "        dataTable['output_type'] = 'display_data';\n",
              "        await google.colab.output.renderOutput(dataTable, element);\n",
              "        const docLink = document.createElement('div');\n",
              "        docLink.innerHTML = docLinkHtml;\n",
              "        element.appendChild(docLink);\n",
              "      }\n",
              "    </script>\n",
              "  </div>\n",
              "\n",
              "\n",
              "    <div id=\"df-6b0ecf74-d84f-454c-aabc-bfb14139c663\">\n",
              "      <button class=\"colab-df-quickchart\" onclick=\"quickchart('df-6b0ecf74-d84f-454c-aabc-bfb14139c663')\"\n",
              "                title=\"Suggest charts\"\n",
              "                style=\"display:none;\">\n",
              "\n",
              "<svg xmlns=\"http://www.w3.org/2000/svg\" height=\"24px\"viewBox=\"0 0 24 24\"\n",
              "     width=\"24px\">\n",
              "    <g>\n",
              "        <path d=\"M19 3H5c-1.1 0-2 .9-2 2v14c0 1.1.9 2 2 2h14c1.1 0 2-.9 2-2V5c0-1.1-.9-2-2-2zM9 17H7v-7h2v7zm4 0h-2V7h2v10zm4 0h-2v-4h2v4z\"/>\n",
              "    </g>\n",
              "</svg>\n",
              "      </button>\n",
              "\n",
              "<style>\n",
              "  .colab-df-quickchart {\n",
              "      --bg-color: #E8F0FE;\n",
              "      --fill-color: #1967D2;\n",
              "      --hover-bg-color: #E2EBFA;\n",
              "      --hover-fill-color: #174EA6;\n",
              "      --disabled-fill-color: #AAA;\n",
              "      --disabled-bg-color: #DDD;\n",
              "  }\n",
              "\n",
              "  [theme=dark] .colab-df-quickchart {\n",
              "      --bg-color: #3B4455;\n",
              "      --fill-color: #D2E3FC;\n",
              "      --hover-bg-color: #434B5C;\n",
              "      --hover-fill-color: #FFFFFF;\n",
              "      --disabled-bg-color: #3B4455;\n",
              "      --disabled-fill-color: #666;\n",
              "  }\n",
              "\n",
              "  .colab-df-quickchart {\n",
              "    background-color: var(--bg-color);\n",
              "    border: none;\n",
              "    border-radius: 50%;\n",
              "    cursor: pointer;\n",
              "    display: none;\n",
              "    fill: var(--fill-color);\n",
              "    height: 32px;\n",
              "    padding: 0;\n",
              "    width: 32px;\n",
              "  }\n",
              "\n",
              "  .colab-df-quickchart:hover {\n",
              "    background-color: var(--hover-bg-color);\n",
              "    box-shadow: 0 1px 2px rgba(60, 64, 67, 0.3), 0 1px 3px 1px rgba(60, 64, 67, 0.15);\n",
              "    fill: var(--button-hover-fill-color);\n",
              "  }\n",
              "\n",
              "  .colab-df-quickchart-complete:disabled,\n",
              "  .colab-df-quickchart-complete:disabled:hover {\n",
              "    background-color: var(--disabled-bg-color);\n",
              "    fill: var(--disabled-fill-color);\n",
              "    box-shadow: none;\n",
              "  }\n",
              "\n",
              "  .colab-df-spinner {\n",
              "    border: 2px solid var(--fill-color);\n",
              "    border-color: transparent;\n",
              "    border-bottom-color: var(--fill-color);\n",
              "    animation:\n",
              "      spin 1s steps(1) infinite;\n",
              "  }\n",
              "\n",
              "  @keyframes spin {\n",
              "    0% {\n",
              "      border-color: transparent;\n",
              "      border-bottom-color: var(--fill-color);\n",
              "      border-left-color: var(--fill-color);\n",
              "    }\n",
              "    20% {\n",
              "      border-color: transparent;\n",
              "      border-left-color: var(--fill-color);\n",
              "      border-top-color: var(--fill-color);\n",
              "    }\n",
              "    30% {\n",
              "      border-color: transparent;\n",
              "      border-left-color: var(--fill-color);\n",
              "      border-top-color: var(--fill-color);\n",
              "      border-right-color: var(--fill-color);\n",
              "    }\n",
              "    40% {\n",
              "      border-color: transparent;\n",
              "      border-right-color: var(--fill-color);\n",
              "      border-top-color: var(--fill-color);\n",
              "    }\n",
              "    60% {\n",
              "      border-color: transparent;\n",
              "      border-right-color: var(--fill-color);\n",
              "    }\n",
              "    80% {\n",
              "      border-color: transparent;\n",
              "      border-right-color: var(--fill-color);\n",
              "      border-bottom-color: var(--fill-color);\n",
              "    }\n",
              "    90% {\n",
              "      border-color: transparent;\n",
              "      border-bottom-color: var(--fill-color);\n",
              "    }\n",
              "  }\n",
              "</style>\n",
              "\n",
              "      <script>\n",
              "        async function quickchart(key) {\n",
              "          const quickchartButtonEl =\n",
              "            document.querySelector('#' + key + ' button');\n",
              "          quickchartButtonEl.disabled = true;  // To prevent multiple clicks.\n",
              "          quickchartButtonEl.classList.add('colab-df-spinner');\n",
              "          try {\n",
              "            const charts = await google.colab.kernel.invokeFunction(\n",
              "                'suggestCharts', [key], {});\n",
              "          } catch (error) {\n",
              "            console.error('Error during call to suggestCharts:', error);\n",
              "          }\n",
              "          quickchartButtonEl.classList.remove('colab-df-spinner');\n",
              "          quickchartButtonEl.classList.add('colab-df-quickchart-complete');\n",
              "        }\n",
              "        (() => {\n",
              "          let quickchartButtonEl =\n",
              "            document.querySelector('#df-6b0ecf74-d84f-454c-aabc-bfb14139c663 button');\n",
              "          quickchartButtonEl.style.display =\n",
              "            google.colab.kernel.accessAllowed ? 'block' : 'none';\n",
              "        })();\n",
              "      </script>\n",
              "    </div>\n",
              "\n",
              "    </div>\n",
              "  </div>\n"
            ],
            "application/vnd.google.colaboratory.intrinsic+json": {
              "type": "dataframe",
              "variable_name": "df",
              "summary": "{\n  \"name\": \"df\",\n  \"rows\": 23,\n  \"fields\": [\n    {\n      \"column\": \"Weight\",\n      \"properties\": {\n        \"dtype\": \"number\",\n        \"std\": 17,\n        \"min\": 45,\n        \"max\": 105,\n        \"num_unique_values\": 19,\n        \"samples\": [\n          45,\n          78,\n          100\n        ],\n        \"semantic_type\": \"\",\n        \"description\": \"\"\n      }\n    },\n    {\n      \"column\": \"Height\",\n      \"properties\": {\n        \"dtype\": \"number\",\n        \"std\": 19,\n        \"min\": 120,\n        \"max\": 183,\n        \"num_unique_values\": 18,\n        \"samples\": [\n          120,\n          135,\n          182\n        ],\n        \"semantic_type\": \"\",\n        \"description\": \"\"\n      }\n    }\n  ]\n}"
            }
          },
          "metadata": {},
          "execution_count": 31
        }
      ]
    },
    {
      "cell_type": "code",
      "source": [
        "# to check the realtion between height and weight, scatter plot can be used\n",
        "plt.scatter(df.Height, df.Weight)\n",
        "plt.xlabel('Height')\n",
        "plt.ylabel('Weight')"
      ],
      "metadata": {
        "colab": {
          "base_uri": "https://localhost:8080/",
          "height": 466
        },
        "id": "SXuSuQwGSVe-",
        "outputId": "31328a98-649a-4c1c-feb4-1e5c6e7e9690"
      },
      "execution_count": 32,
      "outputs": [
        {
          "output_type": "execute_result",
          "data": {
            "text/plain": [
              "Text(0, 0.5, 'Weight')"
            ]
          },
          "metadata": {},
          "execution_count": 32
        },
        {
          "output_type": "display_data",
          "data": {
            "text/plain": [
              "<Figure size 640x480 with 1 Axes>"
            ],
            "image/png": "[encoded data removed]"
          },
          "metadata": {}
        }
      ]
    },
    {
      "cell_type": "code",
      "source": [
        "# to get more clarity, calculate correlation between the two,\n",
        "# value lies between -1 to +1, -1 means negatively correlated, 0 means no correlation, +1 means positively correlated\n",
        "\n",
        "df.corr()"
      ],
      "metadata": {
        "colab": {
          "base_uri": "https://localhost:8080/",
          "height": 112
        },
        "id": "c5n9TyFJSi83",
        "outputId": "9b193961-3bec-42bb-f83f-518e40c6c56f"
      },
      "execution_count": 33,
      "outputs": [
        {
          "output_type": "execute_result",
          "data": {
            "text/plain": [
              "          Weight    Height\n",
              "Weight  1.000000  0.931142\n",
              "Height  0.931142  1.000000"
            ],
            "text/html": [
              "\n",
              "  <div id=\"df-68a37037-e47c-4f76-a5d8-f81bcd53e5c3\" class=\"colab-df-container\">\n",
              "    <div>\n",
              "<style scoped>\n",
              "    .dataframe tbody tr th:only-of-type {\n",
              "        vertical-align: middle;\n",
              "    }\n",
              "\n",
              "    .dataframe tbody tr th {\n",
              "        vertical-align: top;\n",
              "    }\n",
              "\n",
              "    .dataframe thead th {\n",
              "        text-align: right;\n",
              "    }\n",
              "</style>\n",
              "<table border=\"1\" class=\"dataframe\">\n",
              "  <thead>\n",
              "    <tr style=\"text-align: right;\">\n",
              "      <th></th>\n",
              "      <th>Weight</th>\n",
              "      <th>Height</th>\n",
              "    </tr>\n",
              "  </thead>\n",
              "  <tbody>\n",
              "    <tr>\n",
              "      <th>Weight</th>\n",
              "      <td>1.000000</td>\n",
              "      <td>0.931142</td>\n",
              "    </tr>\n",
              "    <tr>\n",
              "      <th>Height</th>\n",
              "      <td>0.931142</td>\n",
              "      <td>1.000000</td>\n",
              "    </tr>\n",
              "  </tbody>\n",
              "</table>\n",
              "</div>\n",
              "    <div class=\"colab-df-buttons\">\n",
              "\n",
              "  <div class=\"colab-df-container\">\n",
              "    <button class=\"colab-df-convert\" onclick=\"convertToInteractive('df-68a37037-e47c-4f76-a5d8-f81bcd53e5c3')\"\n",
              "            title=\"Convert this dataframe to an interactive table.\"\n",
              "            style=\"display:none;\">\n",
              "\n",
              "  <svg xmlns=\"http://www.w3.org/2000/svg\" height=\"24px\" viewBox=\"0 -960 960 960\">\n",
              "    <path d=\"M120-120v-720h720v720H120Zm60-500h600v-160H180v160Zm220 220h160v-160H400v160Zm0 220h160v-160H400v160ZM180-400h160v-160H180v160Zm440 0h160v-160H620v160ZM180-180h160v-160H180v160Zm440 0h160v-160H620v160Z\"/>\n",
              "  </svg>\n",
              "    </button>\n",
              "\n",
              "  <style>\n",
              "    .colab-df-container {\n",
              "      display:flex;\n",
              "      gap: 12px;\n",
              "    }\n",
              "\n",
              "    .colab-df-convert {\n",
              "      background-color: #E8F0FE;\n",
              "      border: none;\n",
              "      border-radius: 50%;\n",
              "      cursor: pointer;\n",
              "      display: none;\n",
              "      fill: #1967D2;\n",
              "      height: 32px;\n",
              "      padding: 0 0 0 0;\n",
              "      width: 32px;\n",
              "    }\n",
              "\n",
              "    .colab-df-convert:hover {\n",
              "      background-color: #E2EBFA;\n",
              "      box-shadow: 0px 1px 2px rgba(60, 64, 67, 0.3), 0px 1px 3px 1px rgba(60, 64, 67, 0.15);\n",
              "      fill: #174EA6;\n",
              "    }\n",
              "\n",
              "    .colab-df-buttons div {\n",
              "      margin-bottom: 4px;\n",
              "    }\n",
              "\n",
              "    [theme=dark] .colab-df-convert {\n",
              "      background-color: #3B4455;\n",
              "      fill: #D2E3FC;\n",
              "    }\n",
              "\n",
              "    [theme=dark] .colab-df-convert:hover {\n",
              "      background-color: #434B5C;\n",
              "      box-shadow: 0px 1px 3px 1px rgba(0, 0, 0, 0.15);\n",
              "      filter: drop-shadow(0px 1px 2px rgba(0, 0, 0, 0.3));\n",
              "      fill: #FFFFFF;\n",
              "    }\n",
              "  </style>\n",
              "\n",
              "    <script>\n",
              "      const buttonEl =\n",
              "        document.querySelector('#df-68a37037-e47c-4f76-a5d8-f81bcd53e5c3 button.colab-df-convert');\n",
              "      buttonEl.style.display =\n",
              "        google.colab.kernel.accessAllowed ? 'block' : 'none';\n",
              "\n",
              "      async function convertToInteractive(key) {\n",
              "        const element = document.querySelector('#df-68a37037-e47c-4f76-a5d8-f81bcd53e5c3');\n",
              "        const dataTable =\n",
              "          await google.colab.kernel.invokeFunction('convertToInteractive',\n",
              "                                                    [key], {});\n",
              "        if (!dataTable) return;\n",
              "\n",
              "        const docLinkHtml = 'Like what you see? Visit the ' +\n",
              "          '<a target=\"_blank\" href=https://colab.research.google.com/notebooks/data_table.ipynb>data table notebook</a>'\n",
              "          + ' to learn more about interactive tables.';\n",
              "        element.innerHTML = '';\n",
              "        dataTable['output_type'] = 'display_data';\n",
              "        await google.colab.output.renderOutput(dataTable, element);\n",
              "        const docLink = document.createElement('div');\n",
              "        docLink.innerHTML = docLinkHtml;\n",
              "        element.appendChild(docLink);\n",
              "      }\n",
              "    </script>\n",
              "  </div>\n",
              "\n",
              "\n",
              "    <div id=\"df-ac4e5fb1-5414-42a9-bee3-f58ca3008e63\">\n",
              "      <button class=\"colab-df-quickchart\" onclick=\"quickchart('df-ac4e5fb1-5414-42a9-bee3-f58ca3008e63')\"\n",
              "                title=\"Suggest charts\"\n",
              "                style=\"display:none;\">\n",
              "\n",
              "<svg xmlns=\"http://www.w3.org/2000/svg\" height=\"24px\"viewBox=\"0 0 24 24\"\n",
              "     width=\"24px\">\n",
              "    <g>\n",
              "        <path d=\"M19 3H5c-1.1 0-2 .9-2 2v14c0 1.1.9 2 2 2h14c1.1 0 2-.9 2-2V5c0-1.1-.9-2-2-2zM9 17H7v-7h2v7zm4 0h-2V7h2v10zm4 0h-2v-4h2v4z\"/>\n",
              "    </g>\n",
              "</svg>\n",
              "      </button>\n",
              "\n",
              "<style>\n",
              "  .colab-df-quickchart {\n",
              "      --bg-color: #E8F0FE;\n",
              "      --fill-color: #1967D2;\n",
              "      --hover-bg-color: #E2EBFA;\n",
              "      --hover-fill-color: #174EA6;\n",
              "      --disabled-fill-color: #AAA;\n",
              "      --disabled-bg-color: #DDD;\n",
              "  }\n",
              "\n",
              "  [theme=dark] .colab-df-quickchart {\n",
              "      --bg-color: #3B4455;\n",
              "      --fill-color: #D2E3FC;\n",
              "      --hover-bg-color: #434B5C;\n",
              "      --hover-fill-color: #FFFFFF;\n",
              "      --disabled-bg-color: #3B4455;\n",
              "      --disabled-fill-color: #666;\n",
              "  }\n",
              "\n",
              "  .colab-df-quickchart {\n",
              "    background-color: var(--bg-color);\n",
              "    border: none;\n",
              "    border-radius: 50%;\n",
              "    cursor: pointer;\n",
              "    display: none;\n",
              "    fill: var(--fill-color);\n",
              "    height: 32px;\n",
              "    padding: 0;\n",
              "    width: 32px;\n",
              "  }\n",
              "\n",
              "  .colab-df-quickchart:hover {\n",
              "    background-color: var(--hover-bg-color);\n",
              "    box-shadow: 0 1px 2px rgba(60, 64, 67, 0.3), 0 1px 3px 1px rgba(60, 64, 67, 0.15);\n",
              "    fill: var(--button-hover-fill-color);\n",
              "  }\n",
              "\n",
              "  .colab-df-quickchart-complete:disabled,\n",
              "  .colab-df-quickchart-complete:disabled:hover {\n",
              "    background-color: var(--disabled-bg-color);\n",
              "    fill: var(--disabled-fill-color);\n",
              "    box-shadow: none;\n",
              "  }\n",
              "\n",
              "  .colab-df-spinner {\n",
              "    border: 2px solid var(--fill-color);\n",
              "    border-color: transparent;\n",
              "    border-bottom-color: var(--fill-color);\n",
              "    animation:\n",
              "      spin 1s steps(1) infinite;\n",
              "  }\n",
              "\n",
              "  @keyframes spin {\n",
              "    0% {\n",
              "      border-color: transparent;\n",
              "      border-bottom-color: var(--fill-color);\n",
              "      border-left-color: var(--fill-color);\n",
              "    }\n",
              "    20% {\n",
              "      border-color: transparent;\n",
              "      border-left-color: var(--fill-color);\n",
              "      border-top-color: var(--fill-color);\n",
              "    }\n",
              "    30% {\n",
              "      border-color: transparent;\n",
              "      border-left-color: var(--fill-color);\n",
              "      border-top-color: var(--fill-color);\n",
              "      border-right-color: var(--fill-color);\n",
              "    }\n",
              "    40% {\n",
              "      border-color: transparent;\n",
              "      border-right-color: var(--fill-color);\n",
              "      border-top-color: var(--fill-color);\n",
              "    }\n",
              "    60% {\n",
              "      border-color: transparent;\n",
              "      border-right-color: var(--fill-color);\n",
              "    }\n",
              "    80% {\n",
              "      border-color: transparent;\n",
              "      border-right-color: var(--fill-color);\n",
              "      border-bottom-color: var(--fill-color);\n",
              "    }\n",
              "    90% {\n",
              "      border-color: transparent;\n",
              "      border-bottom-color: var(--fill-color);\n",
              "    }\n",
              "  }\n",
              "</style>\n",
              "\n",
              "      <script>\n",
              "        async function quickchart(key) {\n",
              "          const quickchartButtonEl =\n",
              "            document.querySelector('#' + key + ' button');\n",
              "          quickchartButtonEl.disabled = true;  // To prevent multiple clicks.\n",
              "          quickchartButtonEl.classList.add('colab-df-spinner');\n",
              "          try {\n",
              "            const charts = await google.colab.kernel.invokeFunction(\n",
              "                'suggestCharts', [key], {});\n",
              "          } catch (error) {\n",
              "            console.error('Error during call to suggestCharts:', error);\n",
              "          }\n",
              "          quickchartButtonEl.classList.remove('colab-df-spinner');\n",
              "          quickchartButtonEl.classList.add('colab-df-quickchart-complete');\n",
              "        }\n",
              "        (() => {\n",
              "          let quickchartButtonEl =\n",
              "            document.querySelector('#df-ac4e5fb1-5414-42a9-bee3-f58ca3008e63 button');\n",
              "          quickchartButtonEl.style.display =\n",
              "            google.colab.kernel.accessAllowed ? 'block' : 'none';\n",
              "        })();\n",
              "      </script>\n",
              "    </div>\n",
              "\n",
              "    </div>\n",
              "  </div>\n"
            ],
            "application/vnd.google.colaboratory.intrinsic+json": {
              "type": "dataframe",
              "summary": "{\n  \"name\": \"df\",\n  \"rows\": 2,\n  \"fields\": [\n    {\n      \"column\": \"Weight\",\n      \"properties\": {\n        \"dtype\": \"number\",\n        \"std\": 0.048690097732809,\n        \"min\": 0.93114180343299,\n        \"max\": 1.0,\n        \"num_unique_values\": 2,\n        \"samples\": [\n          0.93114180343299,\n          1.0\n        ],\n        \"semantic_type\": \"\",\n        \"description\": \"\"\n      }\n    },\n    {\n      \"column\": \"Height\",\n      \"properties\": {\n        \"dtype\": \"number\",\n        \"std\": 0.048690097732809,\n        \"min\": 0.93114180343299,\n        \"max\": 1.0,\n        \"num_unique_values\": 2,\n        \"samples\": [\n          1.0,\n          0.93114180343299\n        ],\n        \"semantic_type\": \"\",\n        \"description\": \"\"\n      }\n    }\n  ]\n}"
            }
          },
          "metadata": {},
          "execution_count": 33
        }
      ]
    },
    {
      "cell_type": "code",
      "source": [
        "# To see more clarity about the distribution of the data, pair plot can be used\n",
        "import seaborn as sns\n",
        "sns.pairplot(df, diag_kind='kde',kind ='reg')"
      ],
      "metadata": {
        "colab": {
          "base_uri": "https://localhost:8080/",
          "height": 530
        },
        "id": "GelgsZYSS14M",
        "outputId": "65a30139-4eaa-4e07-f49b-016f23acd6ef"
      },
      "execution_count": 38,
      "outputs": [
        {
          "output_type": "execute_result",
          "data": {
            "text/plain": [
              "<seaborn.axisgrid.PairGrid at 0x7e29654c7740>"
            ]
          },
          "metadata": {},
          "execution_count": 38
        },
        {
          "output_type": "display_data",
          "data": {
            "text/plain": [
              "<Figure size 500x500 with 6 Axes>"
            ],
            "image/png": "[encoded data removed]"
          },
          "metadata": {}
        }
      ]
    },
    {
      "cell_type": "code",
      "source": [
        "# Here Height is the dependent variable (y) and weight is the independent variable(X)\n",
        "X= df[['Weight']]   #Independent/predictor -2D array/dataframe\n",
        "y= df['Height']     #dependent/target- 1D array/Series\n"
      ],
      "metadata": {
        "id": "zlb20hmWTREA"
      },
      "execution_count": 39,
      "outputs": []
    },
    {
      "cell_type": "code",
      "source": [
        "# Split the data into training(75%) and testing(25%) sets ( taking 3:1 ratio here)\n",
        "\n",
        "# train_test_split() is used to divide the datasets into 2 sets\n",
        "from sklearn.model_selection import train_test_split\n",
        "X_train, X_test, y_train, y_test = train_test_split(X, y, test_size=0.25, random_state=101)   #random_state ensure same split every time\n"
      ],
      "metadata": {
        "id": "GhULQx9FUlxU"
      },
      "execution_count": 40,
      "outputs": []
    },
    {
      "cell_type": "code",
      "source": [
        "# For model to perform better, scaling of the features is done so that all the feature are in similar ranges\n",
        "from sklearn.preprocessing import StandardScaler\n",
        "\n",
        "# create StandardScaler object\n",
        "sc = StandardScaler()\n",
        "# Apply scaling to training data making mean=0, and variance =1\n",
        "X_train = sc.fit_transform(X_train)\n",
        "\n",
        "# Apply the same scaling to the test set, IMP: here we use transform() and not fit_transform()\n",
        "# As fit computes statistics from train data, and transforms apply those parameters to scale data\n",
        "# we do not apply fit to test to avoid data leakage from test data, as if we fit again, it recalculates the statistics on test data\n",
        "X_test = sc.transform(X_test)\n"
      ],
      "metadata": {
        "id": "ztCqgPGHVdMO"
      },
      "execution_count": 41,
      "outputs": []
    },
    {
      "cell_type": "code",
      "source": [
        "X_test # values will be centered around 0 with standard deviation of 1"
      ],
      "metadata": {
        "colab": {
          "base_uri": "https://localhost:8080/"
        },
        "id": "Co4gIbZVXCK2",
        "outputId": "1412be2d-c708-480b-95f3-be14e0145aa4"
      },
      "execution_count": 43,
      "outputs": [
        {
          "output_type": "execute_result",
          "data": {
            "text/plain": [
              "array([[ 0.64258986],\n",
              "       [ 0.47190193],\n",
              "       [-1.63324922],\n",
              "       [-1.00739348],\n",
              "       [ 0.92706974],\n",
              "       [ 0.75638181]])"
            ]
          },
          "metadata": {},
          "execution_count": 43
        }
      ]
    },
    {
      "cell_type": "code",
      "source": [
        "# IMport LinearRegression model from scikit-learn\n",
        "from sklearn.linear_model import LinearRegression\n",
        "\n",
        "# create LinearRegression model instance\n",
        "lin_reg_model = LinearRegression() #if using for large datasets, use n_jobs=-1 as parameter, so as to allow all available CPU cores for faster computation\n",
        "\n"
      ],
      "metadata": {
        "id": "ZrWKqmGAXHTZ"
      },
      "execution_count": 44,
      "outputs": []
    },
    {
      "cell_type": "code",
      "source": [
        "# Train the model with the training data, fit finds the optimal coefficient for the linear equation\n",
        "lin_reg_model.fit(X_train, y_train)"
      ],
      "metadata": {
        "colab": {
          "base_uri": "https://localhost:8080/",
          "height": 80
        },
        "id": "khgGfEZpX6ef",
        "outputId": "892479b2-609e-48d7-995d-bed34d4303a0"
      },
      "execution_count": 45,
      "outputs": [
        {
          "output_type": "execute_result",
          "data": {
            "text/plain": [
              "LinearRegression()"
            ],
            "text/html": [
              "<style>#sk-container-id-1 {\n",
              "  /* Definition of color scheme common for light and dark mode */\n",
              "  --sklearn-color-text: #000;\n",
              "  --sklearn-color-text-muted: #666;\n",
              "  --sklearn-color-line: gray;\n",
              "  /* Definition of color scheme for unfitted estimators */\n",
              "  --sklearn-color-unfitted-level-0: #fff5e6;\n",
              "  --sklearn-color-unfitted-level-1: #f6e4d2;\n",
              "  --sklearn-color-unfitted-level-2: #ffe0b3;\n",
              "  --sklearn-color-unfitted-level-3: chocolate;\n",
              "  /* Definition of color scheme for fitted estimators */\n",
              "  --sklearn-color-fitted-level-0: #f0f8ff;\n",
              "  --sklearn-color-fitted-level-1: #d4ebff;\n",
              "  --sklearn-color-fitted-level-2: #b3dbfd;\n",
              "  --sklearn-color-fitted-level-3: cornflowerblue;\n",
              "\n",
              "  /* Specific color for light theme */\n",
              "  --sklearn-color-text-on-default-background: var(--sg-text-color, var(--theme-code-foreground, var(--jp-content-font-color1, black)));\n",
              "  --sklearn-color-background: var(--sg-background-color, var(--theme-background, var(--jp-layout-color0, white)));\n",
              "  --sklearn-color-border-box: var(--sg-text-color, var(--theme-code-foreground, var(--jp-content-font-color1, black)));\n",
              "  --sklearn-color-icon: #696969;\n",
              "\n",
              "  @media (prefers-color-scheme: dark) {\n",
              "    /* Redefinition of color scheme for dark theme */\n",
              "    --sklearn-color-text-on-default-background: var(--sg-text-color, var(--theme-code-foreground, var(--jp-content-font-color1, white)));\n",
              "    --sklearn-color-background: var(--sg-background-color, var(--theme-background, var(--jp-layout-color0, #111)));\n",
              "    --sklearn-color-border-box: var(--sg-text-color, var(--theme-code-foreground, var(--jp-content-font-color1, white)));\n",
              "    --sklearn-color-icon: #878787;\n",
              "  }\n",
              "}\n",
              "\n",
              "#sk-container-id-1 {\n",
              "  color: var(--sklearn-color-text);\n",
              "}\n",
              "\n",
              "#sk-container-id-1 pre {\n",
              "  padding: 0;\n",
              "}\n",
              "\n",
              "#sk-container-id-1 input.sk-hidden--visually {\n",
              "  border: 0;\n",
              "  clip: rect(1px 1px 1px 1px);\n",
              "  clip: rect(1px, 1px, 1px, 1px);\n",
              "  height: 1px;\n",
              "  margin: -1px;\n",
              "  overflow: hidden;\n",
              "  padding: 0;\n",
              "  position: absolute;\n",
              "  width: 1px;\n",
              "}\n",
              "\n",
              "#sk-container-id-1 div.sk-dashed-wrapped {\n",
              "  border: 1px dashed var(--sklearn-color-line);\n",
              "  margin: 0 0.4em 0.5em 0.4em;\n",
              "  box-sizing: border-box;\n",
              "  padding-bottom: 0.4em;\n",
              "  background-color: var(--sklearn-color-background);\n",
              "}\n",
              "\n",
              "#sk-container-id-1 div.sk-container {\n",
              "  /* jupyter's `normalize.less` sets `[hidden] { display: none; }`\n",
              "     but bootstrap.min.css set `[hidden] { display: none !important; }`\n",
              "     so we also need the `!important` here to be able to override the\n",
              "     default hidden behavior on the sphinx rendered scikit-learn.org.\n",
              "     See: https://github.com/scikit-learn/scikit-learn/issues/21755 */\n",
              "  display: inline-block !important;\n",
              "  position: relative;\n",
              "}\n",
              "\n",
              "#sk-container-id-1 div.sk-text-repr-fallback {\n",
              "  display: none;\n",
              "}\n",
              "\n",
              "div.sk-parallel-item,\n",
              "div.sk-serial,\n",
              "div.sk-item {\n",
              "  /* draw centered vertical line to link estimators */\n",
              "  background-image: linear-gradient(var(--sklearn-color-text-on-default-background), var(--sklearn-color-text-on-default-background));\n",
              "  background-size: 2px 100%;\n",
              "  background-repeat: no-repeat;\n",
              "  background-position: center center;\n",
              "}\n",
              "\n",
              "/* Parallel-specific style estimator block */\n",
              "\n",
              "#sk-container-id-1 div.sk-parallel-item::after {\n",
              "  content: \"\";\n",
              "  width: 100%;\n",
              "  border-bottom: 2px solid var(--sklearn-color-text-on-default-background);\n",
              "  flex-grow: 1;\n",
              "}\n",
              "\n",
              "#sk-container-id-1 div.sk-parallel {\n",
              "  display: flex;\n",
              "  align-items: stretch;\n",
              "  justify-content: center;\n",
              "  background-color: var(--sklearn-color-background);\n",
              "  position: relative;\n",
              "}\n",
              "\n",
              "#sk-container-id-1 div.sk-parallel-item {\n",
              "  display: flex;\n",
              "  flex-direction: column;\n",
              "}\n",
              "\n",
              "#sk-container-id-1 div.sk-parallel-item:first-child::after {\n",
              "  align-self: flex-end;\n",
              "  width: 50%;\n",
              "}\n",
              "\n",
              "#sk-container-id-1 div.sk-parallel-item:last-child::after {\n",
              "  align-self: flex-start;\n",
              "  width: 50%;\n",
              "}\n",
              "\n",
              "#sk-container-id-1 div.sk-parallel-item:only-child::after {\n",
              "  width: 0;\n",
              "}\n",
              "\n",
              "/* Serial-specific style estimator block */\n",
              "\n",
              "#sk-container-id-1 div.sk-serial {\n",
              "  display: flex;\n",
              "  flex-direction: column;\n",
              "  align-items: center;\n",
              "  background-color: var(--sklearn-color-background);\n",
              "  padding-right: 1em;\n",
              "  padding-left: 1em;\n",
              "}\n",
              "\n",
              "\n",
              "/* Toggleable style: style used for estimator/Pipeline/ColumnTransformer box that is\n",
              "clickable and can be expanded/collapsed.\n",
              "- Pipeline and ColumnTransformer use this feature and define the default style\n",
              "- Estimators will overwrite some part of the style using the `sk-estimator` class\n",
              "*/\n",
              "\n",
              "/* Pipeline and ColumnTransformer style (default) */\n",
              "\n",
              "#sk-container-id-1 div.sk-toggleable {\n",
              "  /* Default theme specific background. It is overwritten whether we have a\n",
              "  specific estimator or a Pipeline/ColumnTransformer */\n",
              "  background-color: var(--sklearn-color-background);\n",
              "}\n",
              "\n",
              "/* Toggleable label */\n",
              "#sk-container-id-1 label.sk-toggleable__label {\n",
              "  cursor: pointer;\n",
              "  display: flex;\n",
              "  width: 100%;\n",
              "  margin-bottom: 0;\n",
              "  padding: 0.5em;\n",
              "  box-sizing: border-box;\n",
              "  text-align: center;\n",
              "  align-items: start;\n",
              "  justify-content: space-between;\n",
              "  gap: 0.5em;\n",
              "}\n",
              "\n",
              "#sk-container-id-1 label.sk-toggleable__label .caption {\n",
              "  font-size: 0.6rem;\n",
              "  font-weight: lighter;\n",
              "  color: var(--sklearn-color-text-muted);\n",
              "}\n",
              "\n",
              "#sk-container-id-1 label.sk-toggleable__label-arrow:before {\n",
              "  /* Arrow on the left of the label */\n",
              "  content: \"▸\";\n",
              "  float: left;\n",
              "  margin-right: 0.25em;\n",
              "  color: var(--sklearn-color-icon);\n",
              "}\n",
              "\n",
              "#sk-container-id-1 label.sk-toggleable__label-arrow:hover:before {\n",
              "  color: var(--sklearn-color-text);\n",
              "}\n",
              "\n",
              "/* Toggleable content - dropdown */\n",
              "\n",
              "#sk-container-id-1 div.sk-toggleable__content {\n",
              "  max-height: 0;\n",
              "  max-width: 0;\n",
              "  overflow: hidden;\n",
              "  text-align: left;\n",
              "  /* unfitted */\n",
              "  background-color: var(--sklearn-color-unfitted-level-0);\n",
              "}\n",
              "\n",
              "#sk-container-id-1 div.sk-toggleable__content.fitted {\n",
              "  /* fitted */\n",
              "  background-color: var(--sklearn-color-fitted-level-0);\n",
              "}\n",
              "\n",
              "#sk-container-id-1 div.sk-toggleable__content pre {\n",
              "  margin: 0.2em;\n",
              "  border-radius: 0.25em;\n",
              "  color: var(--sklearn-color-text);\n",
              "  /* unfitted */\n",
              "  background-color: var(--sklearn-color-unfitted-level-0);\n",
              "}\n",
              "\n",
              "#sk-container-id-1 div.sk-toggleable__content.fitted pre {\n",
              "  /* unfitted */\n",
              "  background-color: var(--sklearn-color-fitted-level-0);\n",
              "}\n",
              "\n",
              "#sk-container-id-1 input.sk-toggleable__control:checked~div.sk-toggleable__content {\n",
              "  /* Expand drop-down */\n",
              "  max-height: 200px;\n",
              "  max-width: 100%;\n",
              "  overflow: auto;\n",
              "}\n",
              "\n",
              "#sk-container-id-1 input.sk-toggleable__control:checked~label.sk-toggleable__label-arrow:before {\n",
              "  content: \"▾\";\n",
              "}\n",
              "\n",
              "/* Pipeline/ColumnTransformer-specific style */\n",
              "\n",
              "#sk-container-id-1 div.sk-label input.sk-toggleable__control:checked~label.sk-toggleable__label {\n",
              "  color: var(--sklearn-color-text);\n",
              "  background-color: var(--sklearn-color-unfitted-level-2);\n",
              "}\n",
              "\n",
              "#sk-container-id-1 div.sk-label.fitted input.sk-toggleable__control:checked~label.sk-toggleable__label {\n",
              "  background-color: var(--sklearn-color-fitted-level-2);\n",
              "}\n",
              "\n",
              "/* Estimator-specific style */\n",
              "\n",
              "/* Colorize estimator box */\n",
              "#sk-container-id-1 div.sk-estimator input.sk-toggleable__control:checked~label.sk-toggleable__label {\n",
              "  /* unfitted */\n",
              "  background-color: var(--sklearn-color-unfitted-level-2);\n",
              "}\n",
              "\n",
              "#sk-container-id-1 div.sk-estimator.fitted input.sk-toggleable__control:checked~label.sk-toggleable__label {\n",
              "  /* fitted */\n",
              "  background-color: var(--sklearn-color-fitted-level-2);\n",
              "}\n",
              "\n",
              "#sk-container-id-1 div.sk-label label.sk-toggleable__label,\n",
              "#sk-container-id-1 div.sk-label label {\n",
              "  /* The background is the default theme color */\n",
              "  color: var(--sklearn-color-text-on-default-background);\n",
              "}\n",
              "\n",
              "/* On hover, darken the color of the background */\n",
              "#sk-container-id-1 div.sk-label:hover label.sk-toggleable__label {\n",
              "  color: var(--sklearn-color-text);\n",
              "  background-color: var(--sklearn-color-unfitted-level-2);\n",
              "}\n",
              "\n",
              "/* Label box, darken color on hover, fitted */\n",
              "#sk-container-id-1 div.sk-label.fitted:hover label.sk-toggleable__label.fitted {\n",
              "  color: var(--sklearn-color-text);\n",
              "  background-color: var(--sklearn-color-fitted-level-2);\n",
              "}\n",
              "\n",
              "/* Estimator label */\n",
              "\n",
              "#sk-container-id-1 div.sk-label label {\n",
              "  font-family: monospace;\n",
              "  font-weight: bold;\n",
              "  display: inline-block;\n",
              "  line-height: 1.2em;\n",
              "}\n",
              "\n",
              "#sk-container-id-1 div.sk-label-container {\n",
              "  text-align: center;\n",
              "}\n",
              "\n",
              "/* Estimator-specific */\n",
              "#sk-container-id-1 div.sk-estimator {\n",
              "  font-family: monospace;\n",
              "  border: 1px dotted var(--sklearn-color-border-box);\n",
              "  border-radius: 0.25em;\n",
              "  box-sizing: border-box;\n",
              "  margin-bottom: 0.5em;\n",
              "  /* unfitted */\n",
              "  background-color: var(--sklearn-color-unfitted-level-0);\n",
              "}\n",
              "\n",
              "#sk-container-id-1 div.sk-estimator.fitted {\n",
              "  /* fitted */\n",
              "  background-color: var(--sklearn-color-fitted-level-0);\n",
              "}\n",
              "\n",
              "/* on hover */\n",
              "#sk-container-id-1 div.sk-estimator:hover {\n",
              "  /* unfitted */\n",
              "  background-color: var(--sklearn-color-unfitted-level-2);\n",
              "}\n",
              "\n",
              "#sk-container-id-1 div.sk-estimator.fitted:hover {\n",
              "  /* fitted */\n",
              "  background-color: var(--sklearn-color-fitted-level-2);\n",
              "}\n",
              "\n",
              "/* Specification for estimator info (e.g. \"i\" and \"?\") */\n",
              "\n",
              "/* Common style for \"i\" and \"?\" */\n",
              "\n",
              ".sk-estimator-doc-link,\n",
              "a:link.sk-estimator-doc-link,\n",
              "a:visited.sk-estimator-doc-link {\n",
              "  float: right;\n",
              "  font-size: smaller;\n",
              "  line-height: 1em;\n",
              "  font-family: monospace;\n",
              "  background-color: var(--sklearn-color-background);\n",
              "  border-radius: 1em;\n",
              "  height: 1em;\n",
              "  width: 1em;\n",
              "  text-decoration: none !important;\n",
              "  margin-left: 0.5em;\n",
              "  text-align: center;\n",
              "  /* unfitted */\n",
              "  border: var(--sklearn-color-unfitted-level-1) 1pt solid;\n",
              "  color: var(--sklearn-color-unfitted-level-1);\n",
              "}\n",
              "\n",
              ".sk-estimator-doc-link.fitted,\n",
              "a:link.sk-estimator-doc-link.fitted,\n",
              "a:visited.sk-estimator-doc-link.fitted {\n",
              "  /* fitted */\n",
              "  border: var(--sklearn-color-fitted-level-1) 1pt solid;\n",
              "  color: var(--sklearn-color-fitted-level-1);\n",
              "}\n",
              "\n",
              "/* On hover */\n",
              "div.sk-estimator:hover .sk-estimator-doc-link:hover,\n",
              ".sk-estimator-doc-link:hover,\n",
              "div.sk-label-container:hover .sk-estimator-doc-link:hover,\n",
              ".sk-estimator-doc-link:hover {\n",
              "  /* unfitted */\n",
              "  background-color: var(--sklearn-color-unfitted-level-3);\n",
              "  color: var(--sklearn-color-background);\n",
              "  text-decoration: none;\n",
              "}\n",
              "\n",
              "div.sk-estimator.fitted:hover .sk-estimator-doc-link.fitted:hover,\n",
              ".sk-estimator-doc-link.fitted:hover,\n",
              "div.sk-label-container:hover .sk-estimator-doc-link.fitted:hover,\n",
              ".sk-estimator-doc-link.fitted:hover {\n",
              "  /* fitted */\n",
              "  background-color: var(--sklearn-color-fitted-level-3);\n",
              "  color: var(--sklearn-color-background);\n",
              "  text-decoration: none;\n",
              "}\n",
              "\n",
              "/* Span, style for the box shown on hovering the info icon */\n",
              ".sk-estimator-doc-link span {\n",
              "  display: none;\n",
              "  z-index: 9999;\n",
              "  position: relative;\n",
              "  font-weight: normal;\n",
              "  right: .2ex;\n",
              "  padding: .5ex;\n",
              "  margin: .5ex;\n",
              "  width: min-content;\n",
              "  min-width: 20ex;\n",
              "  max-width: 50ex;\n",
              "  color: var(--sklearn-color-text);\n",
              "  box-shadow: 2pt 2pt 4pt #999;\n",
              "  /* unfitted */\n",
              "  background: var(--sklearn-color-unfitted-level-0);\n",
              "  border: .5pt solid var(--sklearn-color-unfitted-level-3);\n",
              "}\n",
              "\n",
              ".sk-estimator-doc-link.fitted span {\n",
              "  /* fitted */\n",
              "  background: var(--sklearn-color-fitted-level-0);\n",
              "  border: var(--sklearn-color-fitted-level-3);\n",
              "}\n",
              "\n",
              ".sk-estimator-doc-link:hover span {\n",
              "  display: block;\n",
              "}\n",
              "\n",
              "/* \"?\"-specific style due to the `<a>` HTML tag */\n",
              "\n",
              "#sk-container-id-1 a.estimator_doc_link {\n",
              "  float: right;\n",
              "  font-size: 1rem;\n",
              "  line-height: 1em;\n",
              "  font-family: monospace;\n",
              "  background-color: var(--sklearn-color-background);\n",
              "  border-radius: 1rem;\n",
              "  height: 1rem;\n",
              "  width: 1rem;\n",
              "  text-decoration: none;\n",
              "  /* unfitted */\n",
              "  color: var(--sklearn-color-unfitted-level-1);\n",
              "  border: var(--sklearn-color-unfitted-level-1) 1pt solid;\n",
              "}\n",
              "\n",
              "#sk-container-id-1 a.estimator_doc_link.fitted {\n",
              "  /* fitted */\n",
              "  border: var(--sklearn-color-fitted-level-1) 1pt solid;\n",
              "  color: var(--sklearn-color-fitted-level-1);\n",
              "}\n",
              "\n",
              "/* On hover */\n",
              "#sk-container-id-1 a.estimator_doc_link:hover {\n",
              "  /* unfitted */\n",
              "  background-color: var(--sklearn-color-unfitted-level-3);\n",
              "  color: var(--sklearn-color-background);\n",
              "  text-decoration: none;\n",
              "}\n",
              "\n",
              "#sk-container-id-1 a.estimator_doc_link.fitted:hover {\n",
              "  /* fitted */\n",
              "  background-color: var(--sklearn-color-fitted-level-3);\n",
              "}\n",
              "</style><div id=\"sk-container-id-1\" class=\"sk-top-container\"><div class=\"sk-text-repr-fallback\"><pre>LinearRegression()</pre><b>In a Jupyter environment, please rerun this cell to show the HTML representation or trust the notebook. <br />On GitHub, the HTML representation is unable to render, please try loading this page with nbviewer.org.</b></div><div class=\"sk-container\" hidden><div class=\"sk-item\"><div class=\"sk-estimator fitted sk-toggleable\"><input class=\"sk-toggleable__control sk-hidden--visually\" id=\"sk-estimator-id-1\" type=\"checkbox\" checked><label for=\"sk-estimator-id-1\" class=\"sk-toggleable__label fitted sk-toggleable__label-arrow\"><div><div>LinearRegression</div></div><div><a class=\"sk-estimator-doc-link fitted\" rel=\"noreferrer\" target=\"_blank\" href=\"https://scikit-learn.org/1.6/modules/generated/sklearn.linear_model.LinearRegression.html\">?<span>Documentation for LinearRegression</span></a><span class=\"sk-estimator-doc-link fitted\">i<span>Fitted</span></span></div></label><div class=\"sk-toggleable__content fitted\"><pre>LinearRegression()</pre></div> </div></div></div></div>"
            ]
          },
          "metadata": {},
          "execution_count": 45
        }
      ]
    },
    {
      "cell_type": "code",
      "source": [
        "# Model's learned parameters- Intercept and Slope\n",
        "# Slope( or Coefficient): change in Height for a one unit change in Weight\n",
        "# Intercept: the predicted Height when the Weight is zero (or average Weight when standardized)\n",
        "\n",
        "print('Intercept:', lin_reg_model.intercept_)\n",
        "print('Slope:', lin_reg_model.coef_)"
      ],
      "metadata": {
        "colab": {
          "base_uri": "https://localhost:8080/"
        },
        "id": "liZRhmXrYJY3",
        "outputId": "4ef3a1a7-3fb3-4790-d363-551c3adc9b82"
      },
      "execution_count": 46,
      "outputs": [
        {
          "output_type": "stream",
          "name": "stdout",
          "text": [
            "Intercept: 158.0\n",
            "Slope: [17.77831941]\n"
          ]
        }
      ]
    },
    {
      "cell_type": "code",
      "source": [
        "# Visualize the regression line along with the training data points\n",
        "# The scatter points show actual data, while the line shows model predictions\n",
        "# A good fit will have the line passing close to most points\n",
        "plt.scatter(X_train,y_train,c='red')\n",
        "plt.plot(X_train,lin_reg_model.predict(X_train))"
      ],
      "metadata": {
        "colab": {
          "base_uri": "https://localhost:8080/",
          "height": 447
        },
        "id": "Mo1geDX3Yx7E",
        "outputId": "6810d294-16b5-4930-ac50-1a5412e49256"
      },
      "execution_count": 48,
      "outputs": [
        {
          "output_type": "execute_result",
          "data": {
            "text/plain": [
              "[<matplotlib.lines.Line2D at 0x7e296453fb00>]"
            ]
          },
          "metadata": {},
          "execution_count": 48
        },
        {
          "output_type": "display_data",
          "data": {
            "text/plain": [
              "<Figure size 640x480 with 1 Axes>"
            ],
            "image/png": "[encoded data removed]"
          },
          "metadata": {}
        }
      ]
    },
    {
      "cell_type": "markdown",
      "source": [
        "### Prediction of test data\n",
        "#### Linear Equation that we get:\n",
        "height_to_predict_of_test_data = intercept + slope(weight_from_test_data)\n",
        "\n",
        "y_pred = 158.0 + 17.78(X_test)"
      ],
      "metadata": {
        "id": "etFUFa8RZDxp"
      }
    },
    {
      "cell_type": "code",
      "source": [
        "# Make predictions on the test data\n",
        "# This applies our trained model to new, unseen data points\n",
        "y_pred = lin_reg_model.predict(X_test)"
      ],
      "metadata": {
        "id": "UrMYYj_iZHAD"
      },
      "execution_count": 53,
      "outputs": []
    },
    {
      "cell_type": "markdown",
      "source": [
        "### Evaluating Model Performance\n",
        "#### Metrics used\n",
        "##### 1. RMSE\n",
        "##### 2. R square"
      ],
      "metadata": {
        "id": "3EW4eaUdZzW9"
      }
    },
    {
      "cell_type": "code",
      "source": [
        "# Import metrics to evaluate our model's performance\n",
        "# These help us quantify how well our predictions match the actual values\n",
        "from sklearn.metrics import mean_absolute_error,mean_squared_error"
      ],
      "metadata": {
        "id": "sXLbFEQQZuuy"
      },
      "execution_count": 54,
      "outputs": []
    },
    {
      "cell_type": "markdown",
      "source": [
        "### RMSE(Root Mean Squared Error):TELLS HOW BIG THE ERROR ARE\n",
        "It tells us the average error in the same units as the target variable. Lower RMSE means better predictions. It penalizes large errors more because of the squaring.\n",
        "Good for comparing models when you care about the scale of errors.\n",
        "\n",
        "Example: If predicting house prices, RMSE = 20,000 means on average your predictions are off by ~20K.\n",
        "![image.png](data:image/png;base64,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)"
      ],
      "metadata": {
        "id": "mPkVGShnarP5"
      }
    },
    {
      "cell_type": "code",
      "source": [
        "# Calculate different error metrics to evaluate model performance:\n",
        "# MSE (Mean Squared Error): Average of squared differences (sensitive to outliers)\n",
        "# MAE (Mean Absolute Error): Average of absolute differences (more robust)\n",
        "# RMSE (Root Mean Squared Error): Square root of MSE (in same units as target)\n",
        "mse=mean_squared_error(y_test,y_pred)\n",
        "mae=mean_absolute_error(y_test,y_pred)\n",
        "rmse=np.sqrt(mse)\n",
        "print(mse)\n",
        "print(mae)\n",
        "print(rmse)"
      ],
      "metadata": {
        "colab": {
          "base_uri": "https://localhost:8080/"
        },
        "id": "dqWMfDGCZ3ba",
        "outputId": "39e990b5-b6a3-49df-9f97-7b55182b1951"
      },
      "execution_count": 55,
      "outputs": [
        {
          "output_type": "stream",
          "name": "stdout",
          "text": [
            "18.79109188933781\n",
            "2.54638798034559\n",
            "4.334869304758542\n"
          ]
        }
      ]
    },
    {
      "cell_type": "markdown",
      "source": [
        "#### R square (Coefficient of Determination):how much variance is explained.\n",
        "It measures how much variance in the target variable is explained by the model. It ranges from 0 to 1 (sometimes negative if the model is worse than just predicting the mean). Closer to 1 means a better fit., R² is a relative metric:\n",
        "\n",
        "Compares your model to a baseline (mean predictor).\n",
        "\n",
        "Example: R² = 0.85 means your model explains 85% of the variation in the target.\n",
        "![image.png](data:image/png;base64,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)"
      ],
      "metadata": {
        "id": "O3MUHFLJatR_"
      }
    },
    {
      "cell_type": "code",
      "source": [
        "# import r2 score metrics\n",
        "from sklearn.metrics import r2_score\n",
        "\n",
        "# calculate score\n",
        "score = r2_score(y_test,y_pred)\n",
        "print(score)"
      ],
      "metadata": {
        "colab": {
          "base_uri": "https://localhost:8080/"
        },
        "id": "scAkolXLZ-Jo",
        "outputId": "a0bc203f-42dd-465e-9013-93d1919e2eff"
      },
      "execution_count": 56,
      "outputs": [
        {
          "output_type": "stream",
          "name": "stdout",
          "text": [
            "0.9433292026458774\n"
          ]
        }
      ]
    },
    {
      "cell_type": "code",
      "source": [
        "X_test.shape"
      ],
      "metadata": {
        "colab": {
          "base_uri": "https://localhost:8080/"
        },
        "id": "jnhAjxOieOSF",
        "outputId": "0a08f02b-588e-4be6-ec4e-9998ef7695d2"
      },
      "execution_count": 57,
      "outputs": [
        {
          "output_type": "execute_result",
          "data": {
            "text/plain": [
              "(6, 1)"
            ]
          },
          "metadata": {},
          "execution_count": 57
        }
      ]
    },
    {
      "cell_type": "markdown",
      "source": [
        "#### Other metrics used is : Adjusted R2\n",
        "This penalizes adding unnecessary predictors to the model.\n",
        "![image.png](data:image/png;base64,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)\n",
        "\n",
        "\n"
      ],
      "metadata": {
        "id": "W4ZKXw88cbNq"
      }
    },
    {
      "cell_type": "code",
      "source": [
        "# Calculate using r2\n",
        "adj_r2_score = 1 - ((1- score)*(len(y_test) -1))/((len(y_test))-(X_test.shape[1])-1)\n",
        "adj_r2_score"
      ],
      "metadata": {
        "colab": {
          "base_uri": "https://localhost:8080/"
        },
        "id": "lycdBnIedHMn",
        "outputId": "4ac18904-a1d6-482d-d924-7deb0269eddd"
      },
      "execution_count": 59,
      "outputs": [
        {
          "output_type": "execute_result",
          "data": {
            "text/plain": [
              "0.9291615033073467"
            ]
          },
          "metadata": {},
          "execution_count": 59
        }
      ]
    },
    {
      "cell_type": "markdown",
      "source": [
        "## More detailed Statistical Modeling\n",
        "\n",
        "---\n"
      ],
      "metadata": {
        "id": "Ke6ZC69reaVR"
      }
    },
    {
      "cell_type": "code",
      "source": [
        "# statsmodel can provide more statistical details beyond scikit-learn, It has OLS regression model\n",
        "import statsmodels.api as sm"
      ],
      "metadata": {
        "id": "CbNIuJ6KeUrT"
      },
      "execution_count": 60,
      "outputs": []
    },
    {
      "cell_type": "code",
      "source": [
        "# Create and train an Ordinary Least Squares (OLS) regression model\n",
        "# OLS is the traditional method used in linear regression\n",
        "# Note: statsmodels doesn't automatically add an intercept, but our data is standardized\n",
        "model=sm.OLS(y_train,X_train).fit()"
      ],
      "metadata": {
        "id": "9of8s61LfBdC"
      },
      "execution_count": 61,
      "outputs": []
    },
    {
      "cell_type": "code",
      "source": [
        "# Make predictions using the statsmodels OLS model\n",
        "# Compare these with the scikit-learn model predictions to verify consistency\n",
        "prediction=model.predict(X_test)\n",
        "print(prediction)"
      ],
      "metadata": {
        "colab": {
          "base_uri": "https://localhost:8080/"
        },
        "id": "BWClUzdgfHQB",
        "outputId": "bb353b15-b032-4562-fcf5-5b35acaa2f72"
      },
      "execution_count": 62,
      "outputs": [
        {
          "output_type": "stream",
          "name": "stdout",
          "text": [
            "[ 11.42416775   8.38962319 -29.03642636 -17.90976298  16.48174201\n",
            "  13.44719746]\n"
          ]
        }
      ]
    },
    {
      "cell_type": "code",
      "source": [
        "# Display a comprehensive statistical summary of the OLS model\n",
        "# This shows important details like:\n",
        "# - Coefficient p-values (statistical significance)\n",
        "# - Standard errors\n",
        "# - R-squared and Adjusted R-squared\n",
        "# - F-statistic (overall model significance)\n",
        "print(model.summary())"
      ],
      "metadata": {
        "colab": {
          "base_uri": "https://localhost:8080/"
        },
        "id": "LYpirRrLfX6C",
        "outputId": "8ec3cff0-1ffe-48de-c071-ab61e8a48081"
      },
      "execution_count": 63,
      "outputs": [
        {
          "output_type": "stream",
          "name": "stdout",
          "text": [
            "                                 OLS Regression Results                                \n",
            "=======================================================================================\n",
            "Dep. Variable:                 Height   R-squared (uncentered):                   0.012\n",
            "Model:                            OLS   Adj. R-squared (uncentered):             -0.049\n",
            "Method:                 Least Squares   F-statistic:                             0.2021\n",
            "Date:                Wed, 01 Oct 2025   Prob (F-statistic):                       0.659\n",
            "Time:                        01:57:55   Log-Likelihood:                         -110.21\n",
            "No. Observations:                  17   AIC:                                      222.4\n",
            "Df Residuals:                      16   BIC:                                      223.2\n",
            "Df Model:                           1                                                  \n",
            "Covariance Type:            nonrobust                                                  \n",
            "==============================================================================\n",
            "                 coef    std err          t      P>|t|      [0.025      0.975]\n",
            "------------------------------------------------------------------------------\n",
            "x1            17.7783     39.547      0.450      0.659     -66.057     101.613\n",
            "==============================================================================\n",
            "Omnibus:                        0.242   Durbin-Watson:                   0.004\n",
            "Prob(Omnibus):                  0.886   Jarque-Bera (JB):                0.425\n",
            "Skew:                          -0.134   Prob(JB):                        0.809\n",
            "Kurtosis:                       2.274   Cond. No.                         1.00\n",
            "==============================================================================\n",
            "\n",
            "Notes:\n",
            "[1] R² is computed without centering (uncentered) since the model does not contain a constant.\n",
            "[2] Standard Errors assume that the covariance matrix of the errors is correctly specified.\n"
          ]
        }
      ]
    },
    {
      "cell_type": "code",
      "source": [
        "\n",
        "# Use our trained model to predict the height for a new weight value (72)\n",
        "# First transform the new data point using the same scaler used on training data\n",
        "# This demonstrates how to use the model for real predictions on new data\n",
        "lin_reg_model.predict(sc.transform([[72]]))"
      ],
      "metadata": {
        "colab": {
          "base_uri": "https://localhost:8080/"
        },
        "id": "EFF7deO3ftW4",
        "outputId": "ad89acb0-ee7e-47f6-97b8-ef4b516bd82f"
      },
      "execution_count": 66,
      "outputs": [
        {
          "output_type": "stream",
          "name": "stderr",
          "text": [
            "/usr/local/lib/python3.12/dist-packages/sklearn/utils/validation.py:2739: UserWarning: X does not have valid feature names, but StandardScaler was fitted with feature names\n",
            "  warnings.warn(\n"
          ]
        },
        {
          "output_type": "execute_result",
          "data": {
            "text/plain": [
              "array([156.27447466])"
            ]
          },
          "metadata": {},
          "execution_count": 66
        }
      ]
    },
    {
      "cell_type": "markdown",
      "source": [
        "## When to Use Simple Linear Regression:\n",
        "\n",
        "### Used when there are 2 variables involved and one affects the other and is expected to form a linear relationship\n",
        "\n",
        "### In short:\n",
        "You want to see how one thing affects another.\n",
        "\n",
        "**Example:**  \n",
        "Does the number of hours you study affect your exam score?  \n",
        "- There are only two variables involved.  \n",
        "- One is the **cause** (independent variable → hours studied).  \n",
        "- One is the **effect** (dependent variable → exam score).  \n",
        "- You expect a straight-line relationship.  \n",
        "\n",
        "If you put the data on a graph, the points roughly form a line (not a curve).  \n",
        "\n",
        "---\n",
        "\n",
        "✅ **Good examples where it makes sense:**  \n",
        "- Predicting height from age (for kids).  \n",
        "- Predicting car fuel use from distance traveled.  \n",
        "- Predicting house price from its size.  \n",
        "\n",
        "❌ **Not good to use if:**  \n",
        "- The relationship is curved or complicated.  \n",
        "- Many factors affect the outcome (then you’d use multiple regression instead).  \n"
      ],
      "metadata": {
        "id": "U3Br5gQug-E0"
      }
    },
    {
      "cell_type": "code",
      "source": [],
      "metadata": {
        "id": "bn_J4Ji8hg-E"
      },
      "execution_count": null,
      "outputs": []
    }
  ]
}